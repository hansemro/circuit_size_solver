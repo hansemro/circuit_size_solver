{
 "metadata": {
  "language_info": {
   "codemirror_mode": {
    "name": "ipython",
    "version": 3
   },
   "file_extension": ".py",
   "mimetype": "text/x-python",
   "name": "python",
   "nbconvert_exporter": "python",
   "pygments_lexer": "ipython3",
   "version": "3.9.4"
  },
  "orig_nbformat": 2,
  "kernelspec": {
   "name": "python394jvsc74a57bd0767d51c1340bd893661ea55ea3124f6de3c7a262a8b4abca0554b478b1e2ff90",
   "display_name": "Python 3.9.4 64-bit"
  },
  "metadata": {
   "interpreter": {
    "hash": "767d51c1340bd893661ea55ea3124f6de3c7a262a8b4abca0554b478b1e2ff90"
   }
  }
 },
 "nbformat": 4,
 "nbformat_minor": 2,
 "cells": [
  {
   "source": [
    "EE478 Homework 1\n",
    "----------------\n",
    "\n",
    "Hansem Ro\n",
    "\n",
    "\n"
   ],
   "cell_type": "markdown",
   "metadata": {}
  },
  {
   "source": [
    "Problem 1\n",
    "---------\n",
    "\n",
    "1-of-16 decoder:\n",
    "- inputs: $A[3:0], \\bar{A}[3:0]$\n",
    "- outputs: $word_0, word_1, ..., word_{15}$\n",
    "\n",
    "Decoder logic:\n",
    "$\n",
    "word_0 = \\bar{A}[3]\\&\\bar{A}[2]\\&\\bar{A}[1]\\&\\bar{A}[0]\\\\\n",
    "word_1= \\bar{A}[3]\\&\\bar{A}[2]\\&\\bar{A}[1]\\&A[0]\\\\\n",
    "...\\\\\n",
    "word_{15} = A[3]\\&A[2]\\&A[1]\\&A[0]\n",
    "$\n",
    "\n",
    "Assumptions:\n",
    "- 0.2fF/um of wire\n",
    "- 2 std-cell vertical pitch = 3.6um\n",
    "- direct decoding\n",
    "- inverter input cap = 1fF\n",
    "- output load cap = (4fF * 32bits) = 128fF\n"
   ],
   "cell_type": "markdown",
   "metadata": {}
  },
  {
   "cell_type": "code",
   "execution_count": 6,
   "metadata": {},
   "outputs": [],
   "source": [
    "# Install numpy and cvxpy\n",
    "import numpy as np\n",
    "import circuit_size_solver as solver\n"
   ]
  },
  {
   "cell_type": "code",
   "execution_count": 3,
   "metadata": {},
   "outputs": [
    {
     "output_type": "stream",
     "name": "stdout",
     "text": [
      "d_inv1 =  1.0 + (1.3333333333333333 @ x2 + 1.6666666666666667 @ x3) / 1.0\nd_nand2 =  2.0 + 2.3333333333333335 @ x4 / x2\nd_nor2 =  2.0 + 2.3333333333333335 @ x4 / x3\nd_nor3 =  3.0 + (1.0 @ x5 + 10.0) / x4\nd_inv2 =  1.0 + 12.0 / x5\na_inv1 =  1.0 + (1.3333333333333333 @ x2 + 1.6666666666666667 @ x3) / 1.0\na_nand2 =  1.0 + (1.3333333333333333 @ x2 + 1.6666666666666667 @ x3) / 1.0 + 2.0 + 2.3333333333333335 @ x4 / x2\na_nor2 =  1.0 + (1.3333333333333333 @ x2 + 1.6666666666666667 @ x3) / 1.0 + 2.0 + 2.3333333333333335 @ x4 / x3\na_nor3 =  maximum(1.0 + (1.3333333333333333 @ x2 + 1.6666666666666667 @ x3) / 1.0 + 2.0 + 2.3333333333333335 @ x4 / x2, 1.0 + (1.3333333333333333 @ x2 + 1.6666666666666667 @ x3) / 1.0 + 2.0 + 2.3333333333333335 @ x4 / x3) + 3.0 + (1.0 @ x5 + 10.0) / x4\na_inv2 =  maximum(1.0 + (1.3333333333333333 @ x2 + 1.6666666666666667 @ x3) / 1.0 + 2.0 + 2.3333333333333335 @ x4 / x2, 1.0 + (1.3333333333333333 @ x2 + 1.6666666666666667 @ x3) / 1.0 + 2.0 + 2.3333333333333335 @ x4 / x3) + 3.0 + (1.0 @ x5 + 10.0) / x4 + 1.0 + 12.0 / x5\nTrue\n23.45529895462847\nx2 =  1.6186554234525732\nx3 =  1.6186554014243921\nx4 =  3.3686297710388358\nx5 =  6.357951850517912\n"
     ]
    }
   ],
   "source": [
    "# Testing cvxpy: Book example 4.15 (W&H)\n",
    "# By: Hansem Ro <hansem7@uw.edu>\n",
    "#\n",
    "#                 _____\n",
    "#--------------->|NAND2|\n",
    "#--[Inv(x=1)]-+->|(x2) |---+\n",
    "#             |  |_____|   |     _____\n",
    "#             +->|NOR2 |   +--->|NOR3 |\n",
    "#--------------->|(x3) |------->|(x4) |----+----[Inv(x5)]----+\n",
    "#                |_____|   +--->|_____|    |                 |\n",
    "#                          |              ===c4=10          ===c5=12\n",
    "#--------------------------+               |                 |\n",
    "#                                          v                 v\n",
    "#\n",
    "# Expected solutions:\n",
    "#  Minimum arrival time = 23.44\n",
    "#  x2 = 1.62\n",
    "#  x3 = 1.62\n",
    "#  x4 = 3.37\n",
    "#  x5 = 6.35\n",
    "\n",
    "# Step 1: generate delay expressions for each gate\n",
    "#\n",
    "# d = f + p = g*h + p = g*(Cout/Cin) + p = (Cout/x) + p\n",
    "# Cin = g*x\n",
    "\n",
    "x2 = cp.Variable(pos=True, name=\"x2\")\n",
    "x3 = cp.Variable(pos=True, name=\"x3\")\n",
    "x4 = cp.Variable(pos=True, name=\"x4\")\n",
    "x5 = cp.Variable(pos=True, name=\"x5\")\n",
    "\n",
    "c4 = 10\n",
    "c5 = 12\n",
    "\n",
    "# INV (x=1): branches to NAND2 and NOR2\n",
    "c_inv_nand2 = cp.multiply(g_nand(2),x2)\n",
    "c_inv_nor2 = cp.multiply(g_nor(2),x3)\n",
    "d_inv1 = p_inv() + (c_inv_nand2+c_inv_nor2)/g_inv()\n",
    "print(\"d_inv1 = \", d_inv1)\n",
    "\n",
    "# NAND2 (x2): connects to NOR3\n",
    "c_nor3 = cp.multiply(g_nor(3),x4)\n",
    "d_nand2 = p_nand(2) + (c_nor3)/x2\n",
    "print(\"d_nand2 = \", d_nand2)\n",
    "\n",
    "# NOR2 (x3): connects to NOR3\n",
    "d_nor2 = p_nor(2) + (c_nor3)/x3\n",
    "print(\"d_nor2 = \", d_nor2)\n",
    "\n",
    "# NOR3 (x4): connects to c4 and Inv (x5)\n",
    "c_nor3_inv = cp.multiply(g_inv(),x5)\n",
    "c_nor3_c4 = c4\n",
    "d_nor3 = p_nor(3) + (c_nor3_inv + c_nor3_c4)/x4\n",
    "print(\"d_nor3 = \", d_nor3)\n",
    "\n",
    "# INV (x5): connects to c5\n",
    "c_inv_c5 = c5\n",
    "d_inv2 = p_inv() + (c_inv_c5)/x5\n",
    "print(\"d_inv2 = \", d_inv2)\n",
    "\n",
    "# Step 2: Express as arrival time\n",
    "a_inv1 = d_inv1\n",
    "a_nand2 = a_inv1 + d_nand2\n",
    "a_nor2 = a_inv1 + d_nor2\n",
    "a_nor3 = cp.maximum(a_nand2,a_nor2) + d_nor3\n",
    "a_inv2 = a_nor3 + d_inv2\n",
    "print(\"a_inv1 = \", a_inv1)\n",
    "print(\"a_nand2 = \", a_nand2)\n",
    "print(\"a_nor2 = \", a_nor2)\n",
    "print(\"a_nor3 = \", a_nor3)\n",
    "print(\"a_inv2 = \", a_inv2)\n",
    "\n",
    "# Step 3: Minimize latest arrival time (a_inv2)\n",
    "\n",
    "problem = cp.Problem(cp.Minimize(a_inv2))\n",
    "print(problem.is_dgp(dpp=True))\n",
    "print(problem.solve(gp=True))\n",
    "print(\"x2 = \", x2.value)\n",
    "print(\"x3 = \", x3.value)\n",
    "print(\"x4 = \", x4.value)\n",
    "print(\"x5 = \", x5.value)\n",
    "\n"
   ]
  },
  {
   "cell_type": "code",
   "execution_count": 7,
   "metadata": {},
   "outputs": [
    {
     "output_type": "stream",
     "name": "stdout",
     "text": [
      "Creating top level module\nTrue\nMinimum arrival time:  23.455298867010317\nname:  nor2  drive:  1.6186554353103\nname:  inv1  drive:  1.0\nname:  inv2  drive:  6.357952425532625\nname:  nand2  drive:  1.6186554375276394\nname:  nor3_net_nor3  drive:  3.368629814288384\n"
     ]
    }
   ],
   "source": [
    "# Testing cvxpy: Book example 4.15 (W&H)\n",
    "# By: Hansem Ro <hansem7@uw.edu>\n",
    "#\n",
    "#                   _____\n",
    "# A--------------->|NAND2|\n",
    "# B--[Inv(x=1)]-+->|(x2) |---+\n",
    "#               |  |_____|   |     _____\n",
    "#               +->|NOR2 |   +--->|NOR3 |\n",
    "# C--------------->|(x3) |------->|(x4) |----+----[Inv(x5)]----+\n",
    "#                  |_____|   +--->|_____|    |                 |\n",
    "#                            |              ===c4=10          ===c5=12\n",
    "# D--------------------------+               |                 |\n",
    "#                                            v                 v\n",
    "#\n",
    "# Expected solutions:\n",
    "#  Minimum arrival time = 23.44\n",
    "#  x2 = 1.62\n",
    "#  x3 = 1.62\n",
    "#  x4 = 3.37\n",
    "#  x5 = 6.35\n",
    "\n",
    "# Using logical_unit class\n",
    "inputs = np.array([\"A\", \"B\", \"C\", \"D\"])\n",
    "top = solver.top_module(inputs)\n",
    "top.add_inv(\"B\", \"net_inv1\", drive=1, name=\"inv1\")\n",
    "top.add_unit(np.array([\"A\", \"net_inv1\"]), \"net_nand2\", type=\"nand\", drive=\"x2\", name=\"nand2\")\n",
    "top.add_unit(np.array([\"net_inv1\", \"C\"]), \"net_nor2\", type=\"nor\", drive=\"x3\", name=\"nor2\")\n",
    "top.add_unit(np.array([\"net_nand2\", \"net_nor2\", \"D\"]), \"net_nor3\", type=\"nor\", drive=\"x4\")\n",
    "top.add_cap(\"net_nor3\", \"net_c4\", 10, name=\"c4\")\n",
    "top.add_inv(\"net_nor3\", \"net_inv2\", drive=\"x5\", name=\"inv2\")\n",
    "top.add_cap(\"net_inv2\", \"net_c5\", 12, name=\"c5\")\n",
    "# top.print_props()\n",
    "# print(top.get_cap(\"net_inv1\"))\n",
    "top.solve()"
   ]
  }
 ]
}